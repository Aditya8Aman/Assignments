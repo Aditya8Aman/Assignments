{
 "cells": [
  {
   "cell_type": "markdown",
   "id": "34d3ce35",
   "metadata": {},
   "source": [
    "**1.** Why are functions advantageous to have in your programs?"
   ]
  },
  {
   "cell_type": "markdown",
   "id": "8f2d94f6",
   "metadata": {},
   "source": [
    "**Answer 1.**<br>\n",
    "Some Advantages of functions in a program are:\n",
    "1. **Increase Readability**: Functions increase the readability of a code by dividing the code into sections performing different tasks. <br>\n",
    "2. **Avoid Repetion**: If a task is to be done repeatedly, they can be defined in a function to avoid writing the code for it again and again.<br>\n",
    "3. **Easy Modification**: For making a change for a task, we can easily edit the code for function once. Else we might need to edit multiple instances of code for modifications.<br>\n",
    "4. **Promote Modular Design**: With modular design, similiar functions can be group together in a module and can be used repeatedly for multiple programs.<br>\n",
    "5. **Reduce Error**: By decreasing the number of lines of code, use of functions reduces chances of errors a bit too.<br>\n",
    "6. **Reduce Complexity**: Functions help divide complex problem into simple smaller tasks.<br>\n",
    "<hr>"
   ]
  },
  {
   "cell_type": "markdown",
   "id": "d6ec1db4",
   "metadata": {},
   "source": [
    "**2.** When does the code in a function run: when it's specified or when it's called?"
   ]
  },
  {
   "cell_type": "markdown",
   "id": "1a2966ac",
   "metadata": {},
   "source": [
    "**Answer 2.**<br>\n",
    "Code inside a function block runs when it is called.\n",
    "<hr>"
   ]
  },
  {
   "cell_type": "markdown",
   "id": "d27603c9",
   "metadata": {},
   "source": [
    "**3.** What statement creates a function?"
   ]
  },
  {
   "cell_type": "markdown",
   "id": "30b60cc2",
   "metadata": {},
   "source": [
    "**Answer 3.**<br>\n",
    "'def' keyword if used to define or create a function.<br>\n",
    "A general syntax for creating a function is as follows:\n",
    "```python\n",
    "def myfunction(argument1, argument2):\n",
    "    return argument1 + argument2\n",
    "```\n",
    "Here, we defined a function called <span style=\"color:teal\">myfunction</span> which takes two arguments, <span style=\"color:pink\">argument1 & argument2</span> and returns the value of argument1 + argument2. <br>\n",
    "myfunction can be called as <code> a = myfunction(10,20) </code>\n",
    "<hr>"
   ]
  },
  {
   "cell_type": "markdown",
   "id": "89e7c34b",
   "metadata": {},
   "source": [
    "**4.** What is the difference between a function and a function call?"
   ]
  },
  {
   "cell_type": "markdown",
   "id": "a07caaf3",
   "metadata": {},
   "source": [
    "**Answer 4.**<br>\n",
    "A function is a block of code while a function call is the statement which calls or initialise a \n",
    "function to run the codes written in the function block.\n",
    "<hr>"
   ]
  },
  {
   "cell_type": "markdown",
   "id": "fba10239",
   "metadata": {},
   "source": [
    "**5.** How many global scopes are there in a Python program? How many local scopes?"
   ]
  },
  {
   "cell_type": "markdown",
   "id": "00811ddf",
   "metadata": {},
   "source": [
    "**Answer 5.**<br>\n",
    "Any variable created in the main body of the code and not inside any function or loop block is a global variable and have the global scope. It can be used anywhere in the program. <br>\n",
    "While, Local scope is for the variables defined inside a code block and they can't be used outside that block.\n",
    "<hr>"
   ]
  },
  {
   "cell_type": "markdown",
   "id": "fa78e709",
   "metadata": {},
   "source": [
    "**6.** What happens to variables in a local scope when the function call returns?"
   ]
  },
  {
   "cell_type": "markdown",
   "id": "63c44184",
   "metadata": {},
   "source": [
    "**Answer 6.**<br>\n",
    "The local scope variables inside a function block are *deleted* after the function call to that function returns.\n",
    "<hr>"
   ]
  },
  {
   "cell_type": "markdown",
   "id": "4ab140ce",
   "metadata": {},
   "source": [
    "**7.** What is the concept of a return value? Is it possible to have a return value in an expression?"
   ]
  },
  {
   "cell_type": "markdown",
   "id": "8a577438",
   "metadata": {},
   "source": [
    "**Answer 7.**<br>\n",
    "A function can return a value back to the function call as return value. To let a function return a value, ```return``` statement is used. \n",
    "For instance:\n",
    "```python\n",
    "def sayHello():\n",
    "    return 'Hello'\n",
    "```\n",
    "```sayHello()``` function returns the string 'Hello' as a return value.<hr>"
   ]
  },
  {
   "cell_type": "markdown",
   "id": "425ba673",
   "metadata": {},
   "source": [
    "**8.** If a function does not have a return statement, what is the return value of a call to that function?"
   ]
  },
  {
   "cell_type": "markdown",
   "id": "c5e9e97c",
   "metadata": {},
   "source": [
    "**Answer 8.**<br>\n",
    "If no return value is specified, a function a return a default value of ```None``` to the call.\n",
    "<hr>"
   ]
  },
  {
   "cell_type": "markdown",
   "id": "cf0897e8",
   "metadata": {},
   "source": [
    "**9.** How do you make a function variable refer to the global variable?"
   ]
  },
  {
   "cell_type": "markdown",
   "id": "02e361ff",
   "metadata": {},
   "source": [
    "**Answer 9.**<br>\n",
    "To use global variable in the function block we use the keyword `global`. <br>\n",
    "For instance:\n",
    "```python\n",
    "x = 10\n",
    "def myfunction():\n",
    "    global x\n",
    "    x = x + 20\n",
    "```\n",
    "<hr>"
   ]
  },
  {
   "cell_type": "markdown",
   "id": "ff9d15d4",
   "metadata": {},
   "source": [
    "**10.** What is the data type of None?"
   ]
  },
  {
   "cell_type": "markdown",
   "id": "a3c213ab",
   "metadata": {},
   "source": [
    "**Answer 10.**<br>\n",
    "`None` has a datatype of `NoneType`. It gives value `False` when used in a conditional statement.\n",
    "<hr>"
   ]
  },
  {
   "cell_type": "markdown",
   "id": "34e231cc",
   "metadata": {},
   "source": [
    "**11.** What does the sentence import areallyourpetsnamederic do?"
   ]
  },
  {
   "cell_type": "markdown",
   "id": "a832e7e5",
   "metadata": {},
   "source": [
    "**Answer 11.**<br>\n",
    "`import areallyourpetsnamederic` imports a module called areallyourpetsnamederic. All the functions and variables in the module 'areallyourpetsnamederic.py' is now available to use now using '.' formatting.\n",
    "\n",
    "```python\n",
    "import areallyourpetsnamederic\n",
    "areallyyourpetsnamederic.function1('who name their pet eric?')\n",
    "```\n",
    "\n",
    "<hr>"
   ]
  },
  {
   "cell_type": "markdown",
   "id": "fdc5012f",
   "metadata": {},
   "source": [
    "**12.** If you had a bacon() feature in a spam module, what would you call it after importing spam?"
   ]
  },
  {
   "cell_type": "markdown",
   "id": "79248bda",
   "metadata": {},
   "source": [
    "**Answer 12.**<br>\n",
    "To use a function from a module, we use the syntax: *module_name.function_name*. The function *bacon()* from *spam* module can be called using '.' formatting as `spam.bacon()`\n",
    "<hr>"
   ]
  },
  {
   "cell_type": "markdown",
   "id": "4c3b6980",
   "metadata": {},
   "source": [
    "**13.** What can you do to save a programme from crashing if it encounters an error?"
   ]
  },
  {
   "cell_type": "markdown",
   "id": "392f7d53",
   "metadata": {},
   "source": [
    "**Answer 13.**<br>\n",
    "We can use exception handling to save a program from crashing when error happens. It uses the `try` and `except` blocks to define how the program behaves when an error happens.\n",
    "<hr>"
   ]
  },
  {
   "cell_type": "markdown",
   "id": "49bedd91",
   "metadata": {},
   "source": [
    "**14.** What is the purpose of the try clause? What is the purpose of the except clause?"
   ]
  },
  {
   "cell_type": "markdown",
   "id": "bde5d5ef",
   "metadata": {},
   "source": [
    "**Answer 14.**<br>\n",
    "`try` block is used to run the code prone to causing an error and check for error while `except` block is used to define what codes to run if a specific kind of error happens while trying to run the `try`block.<br>\n",
    "For instance:\n",
    "```python\n",
    "x = int(input())\n",
    "try:\n",
    "   return (1/x)\n",
    "except ZeroDivisionError: #This block handles ZeroDivisionError\n",
    "    print('x should be greater than 0')\n",
    "except ValueError: #This block handles ValueError\n",
    "    print('No value of x given')\n",
    "except Expectation as e: #This block handles all other kind of errors\n",
    "   print(f'Error:{e}')\n",
    "```\n",
    "<hr>"
   ]
  }
 ],
 "metadata": {
  "kernelspec": {
   "display_name": "Python 3 (ipykernel)",
   "language": "python",
   "name": "python3"
  },
  "language_info": {
   "codemirror_mode": {
    "name": "ipython",
    "version": 3
   },
   "file_extension": ".py",
   "mimetype": "text/x-python",
   "name": "python",
   "nbconvert_exporter": "python",
   "pygments_lexer": "ipython3",
   "version": "3.9.7"
  }
 },
 "nbformat": 4,
 "nbformat_minor": 5
}

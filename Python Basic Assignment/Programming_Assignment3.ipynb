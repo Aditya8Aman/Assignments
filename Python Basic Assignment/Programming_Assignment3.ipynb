{
 "cells": [
  {
   "cell_type": "markdown",
   "id": "9ff804e6",
   "metadata": {},
   "source": [
    "**1.** Write a Python Program to Check if a Number is Positive, Negative or Zero?"
   ]
  },
  {
   "cell_type": "code",
   "execution_count": null,
   "id": "837f0a83",
   "metadata": {},
   "outputs": [],
   "source": [
    "#code:\n",
    "while True:\n",
    "    try:\n",
    "        x = int(input('Enter a number: '))\n",
    "    except:\n",
    "        print('Some error ocurred, try again')\n",
    "    else:\n",
    "        break\n",
    "if (x > 0):\n",
    "    print('Positive')\n",
    "elif (x < 0):\n",
    "    print('Negative')\n",
    "else:\n",
    "    print('Zero')"
   ]
  },
  {
   "cell_type": "markdown",
   "id": "00a185a2",
   "metadata": {},
   "source": [
    "<hr>"
   ]
  },
  {
   "cell_type": "markdown",
   "id": "b7cfbe59",
   "metadata": {},
   "source": [
    "**2.** Write a Python Program to Check if a Number is Odd or Even?"
   ]
  },
  {
   "cell_type": "code",
   "execution_count": null,
   "id": "4089b802",
   "metadata": {},
   "outputs": [],
   "source": [
    "#code\n",
    "while True:\n",
    "    try:\n",
    "        x = int(input('Enter a number: '))\n",
    "    except:\n",
    "        print('Some error ocurred, try again')\n",
    "    else:\n",
    "        break\n",
    "if (x % 2 == 0):\n",
    "    print('Even')  \n",
    "else:\n",
    "    print('Odd')"
   ]
  },
  {
   "cell_type": "markdown",
   "id": "6708d480",
   "metadata": {},
   "source": [
    "<hr>"
   ]
  },
  {
   "cell_type": "markdown",
   "id": "71dc7da2",
   "metadata": {},
   "source": [
    "**3.** Write a Python Program to Check Leap Year?"
   ]
  },
  {
   "cell_type": "code",
   "execution_count": null,
   "id": "52b0541e",
   "metadata": {},
   "outputs": [],
   "source": [
    "#code using Calender module & isleap function\n",
    "\n",
    "import calendar\n",
    "while True:\n",
    "    try:\n",
    "        y = int(input('Enter year: '))\n",
    "        break\n",
    "    except:\n",
    "        print('Enter a valid year')\n",
    "        continue\n",
    "        \n",
    "if (calendar.isleap(y)):\n",
    "    print(f\"{y} is a leapyear\")\n",
    "else:\n",
    "    print(f\"{y} is not a leapyear\")\n",
    "    \n",
    "          "
   ]
  },
  {
   "cell_type": "markdown",
   "id": "36137ce4",
   "metadata": {},
   "source": [
    "<hr>"
   ]
  },
  {
   "cell_type": "markdown",
   "id": "2d1e110b",
   "metadata": {},
   "source": [
    "**4.** Write a Python Program to Check Prime Number?"
   ]
  },
  {
   "cell_type": "code",
   "execution_count": null,
   "id": "4b6fc552",
   "metadata": {},
   "outputs": [],
   "source": [
    "#code\n",
    "\n",
    "while True:\n",
    "    try:\n",
    "        x = int(input('Enter a number: '))\n",
    "        if ( x < 2):\n",
    "            raise\n",
    "        break\n",
    "    except:\n",
    "        print('Enter a valid number greater than one')\n",
    "        continue\n",
    "#using for-else\n",
    "for i in range (2,x):\n",
    "    if (x%i == 0):\n",
    "        print(f'{x} is not prime number.\\n{x//i} x {i} = {x}')\n",
    "        break\n",
    "else:\n",
    "    print(f\"{x} is a prime number\")\n",
    "        "
   ]
  },
  {
   "cell_type": "markdown",
   "id": "f5790c58",
   "metadata": {},
   "source": [
    "<hr>"
   ]
  },
  {
   "cell_type": "markdown",
   "id": "a06109ab",
   "metadata": {},
   "source": [
    "**5.** Write a Python Program to Print all Prime Numbers in an Interval of 1-10000?"
   ]
  },
  {
   "cell_type": "code",
   "execution_count": null,
   "id": "65f88c8e",
   "metadata": {},
   "outputs": [],
   "source": [
    "#code\n",
    "def isprime(x,p):\n",
    "    for i in p:\n",
    "        if (x%i == 0):\n",
    "            return False\n",
    "    return True\n",
    "\n",
    "p = []\n",
    "for i in range(2, 10001):\n",
    "    if(isprime(i,p)):\n",
    "        print(i)\n",
    "        p.append(i)"
   ]
  },
  {
   "cell_type": "markdown",
   "id": "d0fe0401",
   "metadata": {},
   "source": [
    "<hr>"
   ]
  }
 ],
 "metadata": {
  "kernelspec": {
   "display_name": "Python 3 (ipykernel)",
   "language": "python",
   "name": "python3"
  },
  "language_info": {
   "codemirror_mode": {
    "name": "ipython",
    "version": 3
   },
   "file_extension": ".py",
   "mimetype": "text/x-python",
   "name": "python",
   "nbconvert_exporter": "python",
   "pygments_lexer": "ipython3",
   "version": "3.9.7"
  }
 },
 "nbformat": 4,
 "nbformat_minor": 5
}

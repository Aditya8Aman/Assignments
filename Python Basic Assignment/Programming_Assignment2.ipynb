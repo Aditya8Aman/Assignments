{
 "cells": [
  {
   "cell_type": "markdown",
   "id": "abe027ca",
   "metadata": {},
   "source": [
    "**1.** Write a Python program to convert kilometers to miles?"
   ]
  },
  {
   "cell_type": "code",
   "execution_count": null,
   "id": "309deef8",
   "metadata": {},
   "outputs": [],
   "source": [
    "#code\n",
    "try:\n",
    "    a = int(input('Enter distance in kilometers: '))\n",
    "except ValueError:\n",
    "    print(\"distance can only be a number\")\n",
    "except Exception as e:\n",
    "    print('The following Error occured: ', e)\n",
    "else:\n",
    "    print('valid distance entered\\n')\n",
    "    b = a *  0.62137119\n",
    "    b = round (b, 2)\n",
    "\n",
    "print('The distance in miles is ', b)\n"
   ]
  },
  {
   "cell_type": "markdown",
   "id": "ea119f13",
   "metadata": {},
   "source": [
    "<hr>"
   ]
  },
  {
   "cell_type": "markdown",
   "id": "f49d5783",
   "metadata": {},
   "source": [
    "**2.** Write a Python program to convert Celsius to Fahrenheit?"
   ]
  },
  {
   "cell_type": "code",
   "execution_count": null,
   "id": "62aec8aa",
   "metadata": {},
   "outputs": [],
   "source": [
    "#code\n",
    "while True:\n",
    "    try:\n",
    "        c = int(input('Enter the temperature in celsius: '))\n",
    "        f = (c * 9/5) + 32\n",
    "    except:\n",
    "        print('Please enter a valid temperature')\n",
    "        continue\n",
    "    else:\n",
    "        break        \n",
    "print('The temperature in Fahrenheit is ', f)\n",
    "    "
   ]
  },
  {
   "cell_type": "markdown",
   "id": "5ee3878a",
   "metadata": {},
   "source": [
    "<hr>"
   ]
  },
  {
   "cell_type": "markdown",
   "id": "99b94366",
   "metadata": {},
   "source": [
    "**3.** Write a Python program to display calendar?"
   ]
  },
  {
   "cell_type": "code",
   "execution_count": null,
   "id": "fac38c00",
   "metadata": {},
   "outputs": [],
   "source": [
    "#code using calender module\n",
    "import calendar\n",
    "mm = int(input('Enter the Month: '))\n",
    "yy = int(input('Enter the Year: '))\n",
    "print(calendar.month(yy, mm))"
   ]
  },
  {
   "cell_type": "markdown",
   "id": "b08dedba",
   "metadata": {},
   "source": [
    "<hr>"
   ]
  },
  {
   "cell_type": "markdown",
   "id": "7cfb6098",
   "metadata": {},
   "source": [
    "**4.** Write a Python program to solve quadratic equation?"
   ]
  },
  {
   "cell_type": "code",
   "execution_count": null,
   "id": "c8de11e8",
   "metadata": {},
   "outputs": [],
   "source": [
    "#code to solve quadratic equation using sympy module\n",
    "\n",
    "#importing modules of display symbols\n",
    "import sympy as sym\n",
    "from IPython.display import display\n",
    "\n",
    "#displaying formate of the Quadratic equation\n",
    "x, a, b, c = sym.symbols('x a b c')\n",
    "f1 = sym.Eq(a*x ** 2 + b * x + c, 0)\n",
    "display(f1)\n",
    "\n",
    "while True:\n",
    "    try:\n",
    "        a2 = int(input('Enter the value of a: '))\n",
    "        b2 = int(input('Enter the value of b: '))\n",
    "        c2 = int(input('Enter the value of c:'))\n",
    "        f2 = sym.Eq(a2 * x **2 + b2 * x + c2, 0) \n",
    "        \n",
    "        #Displaying the entered equation\n",
    "        display(f2)\n",
    "    except Exception as e:\n",
    "        print(f'Invalid equation because of {e}')\n",
    "        continue\n",
    "    else:\n",
    "        #solving and displaying roots of the equation\n",
    "        r = sym.solve(f2,x)\n",
    "        if len(r) == 2:\n",
    "            print(f'The roots of the equation are {r[0]} & {r[1]}')\n",
    "        else:\n",
    "            print(f'The roots of the equation is {r[0]}')\n",
    "        break"
   ]
  },
  {
   "cell_type": "markdown",
   "id": "98c4f196",
   "metadata": {},
   "source": [
    "<hr>"
   ]
  },
  {
   "cell_type": "markdown",
   "id": "9f90c101",
   "metadata": {},
   "source": [
    "**5.** Write a Python program to swap two variables without temp variable?"
   ]
  },
  {
   "cell_type": "code",
   "execution_count": null,
   "id": "601f1ee0",
   "metadata": {},
   "outputs": [],
   "source": [
    "#code \n",
    "a = input('Enter first variable, a:')\n",
    "b = input('Enter second variable, b:')\n",
    "\n",
    "#code to swap variables using , commas\n",
    "a , b = b, a\n",
    "print('a: ',a)\n",
    "print('b: ',b)\n",
    "\n",
    "#code to swap numeric variables using arithmetic operators\n",
    "a = int(a)\n",
    "b = int(b)\n",
    "a = (a + b)\n",
    "b = (a - b)\n",
    "a = (a - b)\n",
    "print('a: ',a)\n",
    "print('b: ',b)\n",
    "\n",
    "a = a * b\n",
    "b = a // b\n",
    "a = a // b\n",
    "print('a: ',a)\n",
    "print('b: ',b)"
   ]
  },
  {
   "cell_type": "markdown",
   "id": "98c506e3",
   "metadata": {},
   "source": [
    "<hr>"
   ]
  }
 ],
 "metadata": {
  "kernelspec": {
   "display_name": "Python 3 (ipykernel)",
   "language": "python",
   "name": "python3"
  },
  "language_info": {
   "codemirror_mode": {
    "name": "ipython",
    "version": 3
   },
   "file_extension": ".py",
   "mimetype": "text/x-python",
   "name": "python",
   "nbconvert_exporter": "python",
   "pygments_lexer": "ipython3",
   "version": "3.9.7"
  }
 },
 "nbformat": 4,
 "nbformat_minor": 5
}

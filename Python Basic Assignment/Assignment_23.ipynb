{
 "cells": [
  {
   "cell_type": "markdown",
   "id": "4f88c02a",
   "metadata": {},
   "source": [
    "**1.** What is the result of the code, and why?\n",
    "```python\n",
    "def func(a, b=6, c=8):\n",
    "    print(a, b, c)\n",
    "func(1,2)\n",
    "```"
   ]
  },
  {
   "cell_type": "markdown",
   "id": "b94651c1",
   "metadata": {},
   "source": [
    "**Answer 1.**<br>\n",
    "The result is `1 2 8`. <br>\n",
    "Default value of b & c is given. So, as a value for c is not passed in function call `func(1,2)`, default value of c (8) defined in function definition is taken. Also, sice value for b is provided, default value (6) is not used. So, a = 1, b = 2, c = 8.\n",
    "<hr>"
   ]
  },
  {
   "cell_type": "markdown",
   "id": "ae13607f",
   "metadata": {},
   "source": [
    "**2.** What is the result of this code, and why?\n",
    "```python\n",
    "def func(a, b, c=5):\n",
    "    print(a, b, c)\n",
    "func(1, c=3, b=2)\n",
    "```"
   ]
  },
  {
   "cell_type": "markdown",
   "id": "046b964d",
   "metadata": {},
   "source": [
    "**Answer 2.** <br>\n",
    "The result is `1 2 3`.<br>\n",
    "first value passed in function call is matched with the first variable in function definition so a = 1. Values of b & c are implicitly stated in function call so default values in function definition is not used. So, a = 1, b = 2, c = 3.\n",
    "<hr>"
   ]
  },
  {
   "cell_type": "markdown",
   "id": "95ce529f",
   "metadata": {},
   "source": [
    "**3.** How about this code: what is its result, and why?\n",
    "```python\n",
    "def func(a, *pargs):\n",
    "    print(a, pargs)      \n",
    "func(1, 2, 3)\n",
    "```"
   ]
  },
  {
   "cell_type": "markdown",
   "id": "9504c947",
   "metadata": {},
   "source": [
    "**Answer 3.**<br>\n",
    "The result is `1 (2,3)`.<br>\n",
    "*pargs is used when we don't know how many arguments will be passed with function call. This way the function will receive a tuple of arguments. In this code the agruments after a are passed as a tuple. so, a = 1 & pargs = (2,3).\n",
    "<hr>"
   ]
  },
  {
   "cell_type": "markdown",
   "id": "b8b5ecd0",
   "metadata": {},
   "source": [
    "**4.** What does this code print, and why?\n",
    "```python\n",
    "def func(a, **kargs):\n",
    "    print(a, kargs)\n",
    "func(a=1, c=3, b=2)\n",
    "```"
   ]
  },
  {
   "cell_type": "markdown",
   "id": "eba4ea8b",
   "metadata": {},
   "source": [
    "**Answer 4.**<br>\n",
    "The result is `1 {'c': 3, 'b': 2}`. <br>\n",
    "When we use **kargs in function definition, we don't how any arguments will be passed and all the values are passed to a dictionary in form of key & value pair. Here, a is defined in function definition and all following values are passed as a dictionary. So, a = 1 and kargs = {'c':3, 'b':2}.\n",
    "<hr>"
   ]
  },
  {
   "cell_type": "markdown",
   "id": "27f53bfd",
   "metadata": {},
   "source": [
    "**5.** What gets printed by this, and explain?\n",
    "```python\n",
    "def func(a, b, c=8, d=5):\n",
    "        print(a, b, c, d)\n",
    "func(1, *(5, 6))\n",
    "```"
   ]
  },
  {
   "cell_type": "markdown",
   "id": "8321c029",
   "metadata": {},
   "source": [
    "**Answer 5.**<br>\n",
    "The result is `1 5 6 5`.<br>\n",
    "In `*(5,6)` * is used as an unpacking argument. It unpacks the tuple (5,6), so function call is equivalent to `func(1, 5, 6)`. So, a = 1, b = 5, c = 6 and by taking the value in function definition, d = 5.\n",
    "<hr>"
   ]
  },
  {
   "cell_type": "markdown",
   "id": "03ffcb0d",
   "metadata": {},
   "source": [
    "**6.** what is the result of this, and explain?\n",
    "```python\n",
    "def func(a, b, c): \n",
    "    a = 2\n",
    "    b[0] = 'x'\n",
    "    c['a'] = 'y'\n",
    "l=1; \n",
    "m=[1]; \n",
    "n={'a':0}\n",
    "func(l, m, n)\n",
    "\n",
    "l, m, n\n",
    "```"
   ]
  },
  {
   "cell_type": "markdown",
   "id": "d905e9ab",
   "metadata": {},
   "source": [
    "**Answer 6.**<br>\n",
    "The result is `(1, ['x'], {'a': 'y'})`.<br>\n",
    "l is int and referenced to a but is passed by value to function so value of l does not change. S0, l = 1. <br>\n",
    "m is a list [1]. It is passed by reference as b. `b[0] = 'x'` assign 'x' to first index of m replacing 1. So, m becomes ['x'].<br>\n",
    "n is a dictionary passed by reference as c. `c['a'] = 'y'` assign 'a' key of n to 'y'. So, n becomes {'a':'y'}.<br>\n",
    "Therefore, `l, m, n` gives `(1, ['x'], {'a': 'y'})`.\n",
    "<hr>"
   ]
  }
 ],
 "metadata": {
  "kernelspec": {
   "display_name": "Python 3 (ipykernel)",
   "language": "python",
   "name": "python3"
  },
  "language_info": {
   "codemirror_mode": {
    "name": "ipython",
    "version": 3
   },
   "file_extension": ".py",
   "mimetype": "text/x-python",
   "name": "python",
   "nbconvert_exporter": "python",
   "pygments_lexer": "ipython3",
   "version": "3.9.7"
  }
 },
 "nbformat": 4,
 "nbformat_minor": 5
}

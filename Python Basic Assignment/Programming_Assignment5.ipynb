{
 "cells": [
  {
   "cell_type": "markdown",
   "id": "ca3198ef",
   "metadata": {},
   "source": [
    "**1.** Write a Python Program to Find LCM?"
   ]
  },
  {
   "cell_type": "code",
   "execution_count": 5,
   "id": "fe7b25e7",
   "metadata": {},
   "outputs": [
    {
     "name": "stdout",
     "output_type": "stream",
     "text": [
      "Enter the count of numbers: 3\n",
      "Enter 3 different numbers: \n",
      "Number 1: 21\n",
      "Number 2: 28\n",
      "Number 3: 36\n",
      "The LCM of these numbers is 252\n"
     ]
    }
   ],
   "source": [
    "#code\n",
    "# Asking User for numbers\n",
    "while(True):\n",
    "    try:\n",
    "        n = int(input(\"Enter the count of numbers: \"))\n",
    "        print(f\"Enter {n} different numbers: \")\n",
    "        l = []\n",
    "        for i in range(n):\n",
    "            temp = int(input(f\"Number {i+1}: \"))\n",
    "            l.append(temp)\n",
    "    except Exception as e:\n",
    "        print(\"Some error occured. Please try again\", e)\n",
    "    else:\n",
    "        break\n",
    "\n",
    "def find_lcm(n1, n2):\n",
    "    '''Function takes two numbers and return their LCM'''\n",
    "    gcd = find_hcf(n1,n2)\n",
    "    lcm = (n1*n2)//gcd\n",
    "    return lcm\n",
    "\n",
    "def find_hcf(n1, n2):\n",
    "    '''Function takes two numbers and return their gcd'''\n",
    "    #selecting the smaller number\n",
    "    if (n1 > n2):\n",
    "        small = n2\n",
    "    else:\n",
    "        small = n1\n",
    "    \n",
    "    #looping from 1 to the small number and checking if that number divide both numbers\n",
    "    for i in range(1 , small + 1):\n",
    "        if(n1 % i == 0) and (n2 % i == 0):\n",
    "            hcf = i\n",
    "    return hcf\n",
    "\n",
    "lcm = 1\n",
    "for i in range (len(l)):\n",
    "    lcm = find_lcm(lcm, l[i])\n",
    "\n",
    "print(f\"The LCM of these numbers is {lcm}\")     "
   ]
  },
  {
   "cell_type": "markdown",
   "id": "19e6e2d0",
   "metadata": {},
   "source": [
    "<hr>"
   ]
  },
  {
   "cell_type": "markdown",
   "id": "5fdb1afa",
   "metadata": {},
   "source": [
    "**2.** Write a Python Program to Find HCF?"
   ]
  },
  {
   "cell_type": "code",
   "execution_count": 1,
   "id": "ccd5c1f9",
   "metadata": {},
   "outputs": [
    {
     "name": "stdout",
     "output_type": "stream",
     "text": [
      "Enter the count of numbers: 5\n",
      "Enter 5 different numbers: \n",
      "Number 1: 25\n",
      "Number 2: 85\n",
      "Number 3: 65\n",
      "Number 4: 75\n",
      "Number 5: 95\n",
      "The HCF of given numbers is 5\n"
     ]
    }
   ],
   "source": [
    "#code\n",
    "#code\n",
    "# Asking User for numbers\n",
    "while(True):\n",
    "    try:\n",
    "        n = int(input(\"Enter the count of numbers: \"))\n",
    "        print(f\"Enter {n} different numbers: \")\n",
    "        l = []\n",
    "        for i in range(n):\n",
    "            temp = int(input(f\"Number {i+1}: \"))\n",
    "            l.append(temp)\n",
    "    except Exception as e:\n",
    "        print(\"Some error occured. Please try again\", e)\n",
    "    else:\n",
    "        break\n",
    " \n",
    "def find_hcf(n1, n2):\n",
    "    '''Function takes two numbers and return their gcd'''\n",
    "    #selecting the smaller number\n",
    "    if (n1 > n2):\n",
    "        small = n2\n",
    "    else:\n",
    "        small = n1\n",
    "    \n",
    "    #looping from 1 to the small number and checking if that number divide both numbers\n",
    "    for i in range(1 , small + 1):\n",
    "        if(n1 % i == 0) and (n2 % i == 0):\n",
    "            hcf = i\n",
    "    return hcf\n",
    "\n",
    "hcf = l[0]\n",
    "for i in l[1::]:\n",
    "    hcf = find_hcf(hcf,i)\n",
    "print(f\"The HCF of given numbers is {hcf}\")"
   ]
  },
  {
   "cell_type": "markdown",
   "id": "e2f4f71e",
   "metadata": {},
   "source": [
    "<hr>"
   ]
  },
  {
   "cell_type": "markdown",
   "id": "f4de3681",
   "metadata": {},
   "source": [
    "**3.** Write a Python Program to Convert Decimal to Binary, Octal and Hexadecimal?"
   ]
  },
  {
   "cell_type": "code",
   "execution_count": 8,
   "id": "53ce6b73",
   "metadata": {},
   "outputs": [
    {
     "name": "stdout",
     "output_type": "stream",
     "text": [
      "Decimal: 456\n",
      "Binary:  111001000\n",
      "Octal:  710\n",
      "Hexadecimal:  1c8\n"
     ]
    }
   ],
   "source": [
    "# code using inbuilt fnctions bin oct and hex\n",
    "# Asking user for a number\n",
    "while True:\n",
    "    try:\n",
    "        x = int(input('Decimal: '))\n",
    "    except:\n",
    "        print('Some error ocurred, try again')\n",
    "    else:\n",
    "        break\n",
    "\n",
    "print('Binary: ',bin(x).replace('0b',''))\n",
    "print('Octal: ',oct(x).replace('0o',''))\n",
    "print('Hexadecimal: ',hex(x).replace('0x',''))"
   ]
  },
  {
   "cell_type": "markdown",
   "id": "662643c9",
   "metadata": {},
   "source": [
    "<hr>"
   ]
  },
  {
   "cell_type": "markdown",
   "id": "3a5e15db",
   "metadata": {},
   "source": [
    "**4.** Write a Python Program To Find ASCII value of a character?"
   ]
  },
  {
   "cell_type": "code",
   "execution_count": 10,
   "id": "31af056b",
   "metadata": {},
   "outputs": [
    {
     "name": "stdout",
     "output_type": "stream",
     "text": [
      "Character: )\n",
      "ASCII value: 41\n"
     ]
    }
   ],
   "source": [
    "# code using inbuilt fnctions ord\n",
    "# Asking user for a number\n",
    "while True:\n",
    "    try:\n",
    "        x = input('Character: ')\n",
    "    except:\n",
    "        print('Some error ocurred, try again')\n",
    "    else:\n",
    "        break\n",
    "print(f\"ASCII value: {ord(x)}\")"
   ]
  },
  {
   "cell_type": "markdown",
   "id": "0198881e",
   "metadata": {},
   "source": [
    "<hr>"
   ]
  },
  {
   "cell_type": "markdown",
   "id": "3353b41d",
   "metadata": {},
   "source": [
    "**5.** Write a Python Program to Make a Simple Calculator with 4 basic mathematical operations?"
   ]
  },
  {
   "cell_type": "code",
   "execution_count": 16,
   "id": "97996944",
   "metadata": {},
   "outputs": [
    {
     "name": "stdout",
     "output_type": "stream",
     "text": [
      "Number 1: 4\n",
      "Number 2: 5\n",
      "Select operation: +, - , * , / : *\n",
      "4 * 5 = 20\n"
     ]
    }
   ],
   "source": [
    "# Code\n",
    "while True:\n",
    "    try:\n",
    "        x = int(input('Number 1: '))\n",
    "        y = int(input('Number 2: '))\n",
    "    except:\n",
    "        print('Some error ocurred, try again')\n",
    "    else:\n",
    "        break\n",
    "while True:\n",
    "    try:\n",
    "        op = input(\"Select operation: +, - , * , / : \")\n",
    "        if op not in ['+','-','*','/']:\n",
    "            raise\n",
    "    except:\n",
    "        print('Some error ocurred, try again')\n",
    "    else:\n",
    "        break\n",
    "if (op == '+'):\n",
    "    print(f\"{x} + {y} = {x+y}\")\n",
    "elif (op == '-'):\n",
    "    print(f\"{x} - {y} = {x-y}\")\n",
    "elif (op == '*'):\n",
    "    print(f\"{x} * {y} = {x*y}\")\n",
    "else:\n",
    "    print(f\"{x} / {y} = {x/y}\")\n",
    "    "
   ]
  },
  {
   "cell_type": "markdown",
   "id": "72dcdf1a",
   "metadata": {},
   "source": [
    "<hr>"
   ]
  },
  {
   "cell_type": "markdown",
   "id": "03b0eaa0",
   "metadata": {},
   "source": []
  }
 ],
 "metadata": {
  "kernelspec": {
   "display_name": "Python 3 (ipykernel)",
   "language": "python",
   "name": "python3"
  },
  "language_info": {
   "codemirror_mode": {
    "name": "ipython",
    "version": 3
   },
   "file_extension": ".py",
   "mimetype": "text/x-python",
   "name": "python",
   "nbconvert_exporter": "python",
   "pygments_lexer": "ipython3",
   "version": "3.9.7"
  }
 },
 "nbformat": 4,
 "nbformat_minor": 5
}

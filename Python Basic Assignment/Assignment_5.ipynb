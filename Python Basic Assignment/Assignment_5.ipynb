{
 "cells": [
  {
   "cell_type": "markdown",
   "id": "784db96a",
   "metadata": {},
   "source": [
    "**1.** What does an empty dictionary&#39;s code look like?"
   ]
  },
  {
   "cell_type": "markdown",
   "id": "d4d4d7df",
   "metadata": {},
   "source": [
    "**Answer 1.**<br>\n",
    "We can either use `{}` or the function `dict()` to intialise an empty dictionary.\n",
    "```python\n",
    "myFirstEmptyDict = {}\n",
    "mySecondEmptyDict = dict()\n",
    "```\n",
    "<hr>"
   ]
  },
  {
   "cell_type": "markdown",
   "id": "17c90b45",
   "metadata": {},
   "source": [
    "**2.** What is the value of a dictionary value with the key &#39;foo&#39; and the value 42?"
   ]
  },
  {
   "cell_type": "markdown",
   "id": "715c65cd",
   "metadata": {},
   "source": [
    "**Answer 2.**<br>\n",
    "`myDict = {'Foo':42}`"
   ]
  },
  {
   "cell_type": "markdown",
   "id": "3035ea00",
   "metadata": {},
   "source": [
    "**3.** What is the most significant distinction between a dictionary and a list?"
   ]
  },
  {
   "cell_type": "markdown",
   "id": "81ca79f5",
   "metadata": {},
   "source": [
    "**Answer 3.** <br>\n",
    "A dictionary have key & value pairs as its elements while list have singular elements as individual elements. Lists can hold multiple instances of the same element but a dictionary will only hold unique values of keys. Also, Lists are defined with [ ] with',' seperating elements while dictionary is defined within { } with ',' seperating 'key':'value' pairs.\n",
    "<hr>"
   ]
  },
  {
   "cell_type": "markdown",
   "id": "bb8d27b1",
   "metadata": {},
   "source": [
    "**4.** What happens if you try to access spam[&#39;foo&#39;] if spam is {&#39;bar&#39;: 100}?"
   ]
  },
  {
   "cell_type": "markdown",
   "id": "07127623",
   "metadata": {},
   "source": [
    "**Answer 4.**<br>\n",
    "A KeyError occurs when we try to access a key which is not available in a dictionary.\n",
    "<hr>"
   ]
  },
  {
   "cell_type": "markdown",
   "id": "bcbbd2f9",
   "metadata": {},
   "source": [
    "**5.** If a dictionary is stored in spam, what is the difference between the expressions &#39;cat&#39; in spam and 'cat' in spam.keys()?"
   ]
  },
  {
   "cell_type": "markdown",
   "id": "8c043732",
   "metadata": {},
   "source": [
    "**Answer 5.**<br>\n",
    "`'cat' in spam` looks for 'cat' in the keys of the dictionary spam while `'cat' in spam.keys()` look for 'cat' in the list of keys of the dictionary spam. So, ultimately they perform the same task ans there is no differnce in there functions.\n",
    "<hr>"
   ]
  },
  {
   "cell_type": "markdown",
   "id": "06cb4f44",
   "metadata": {},
   "source": [
    "**6.** If a dictionary is stored in spam, what is the difference between the expressions &#39;cat&#39; in spam and &#39;cat&#39; in spam.values()?"
   ]
  },
  {
   "cell_type": "markdown",
   "id": "3dd7d2c6",
   "metadata": {},
   "source": [
    "**Answer 6.**<br>\n",
    "`'cat' in spam` checks if there is a 'cat' in keys, while `'cat' in spam.values()` checks whether there is a value 'cat' for one of the values in the dictionary spam.\n",
    "<hr>"
   ]
  },
  {
   "cell_type": "markdown",
   "id": "d964239f",
   "metadata": {},
   "source": [
    "**7.** What is a shortcut for the following code?\n",
    "```python\n",
    "if 'color' not in spam:\n",
    "        spam['color'] = 'black'\n",
    "```"
   ]
  },
  {
   "cell_type": "markdown",
   "id": "3c6b3e66",
   "metadata": {},
   "source": [
    "**Answer 7.**<br>\n",
    "`setdefault()` function can be used to insert a key & value pair if a certain key does not exist in a dictionary.<br>\n",
    "So, shortcut for the code will be: `spam.setdefault('color', 'black')`\n",
    "<hr>"
   ]
  },
  {
   "cell_type": "markdown",
   "id": "43da36c9",
   "metadata": {},
   "source": [
    "**8.** How do you &quot;pretty print&quot; dictionary values using which module and function?"
   ]
  },
  {
   "cell_type": "markdown",
   "id": "8cb1da72",
   "metadata": {},
   "source": [
    "**Answer 8.**<br>\n",
    "To \"pretty print\" dictionary values, **pprint module** and **pprint function** is used. It goes like `pprint.pprint()`.\n",
    "<hr>"
   ]
  }
 ],
 "metadata": {
  "kernelspec": {
   "display_name": "Python 3 (ipykernel)",
   "language": "python",
   "name": "python3"
  },
  "language_info": {
   "codemirror_mode": {
    "name": "ipython",
    "version": 3
   },
   "file_extension": ".py",
   "mimetype": "text/x-python",
   "name": "python",
   "nbconvert_exporter": "python",
   "pygments_lexer": "ipython3",
   "version": "3.9.7"
  }
 },
 "nbformat": 4,
 "nbformat_minor": 5
}

{
 "cells": [
  {
   "cell_type": "markdown",
   "id": "519b9628",
   "metadata": {},
   "source": [
    "**1.** What exactly is [ ]?"
   ]
  },
  {
   "cell_type": "markdown",
   "id": "59c32783",
   "metadata": {},
   "source": [
    "**Answer 1.**<br>\n",
    "Sqaure brackets ([ ]) are used to define a list as well as access the indexes to structures like Strings, lists, tupples and dictionaries. <br>\n",
    "For instance:\n",
    "```python\n",
    "a = [1,2,3,4]\n",
    "# Here [] is used to create a list\n",
    "a[3] = 'Two' \n",
    "#Here [] is used to access the '3' index of the list 'a'\n",
    "b = (1,2,2,3,3,3,4)\n",
    "print(a[7])\n",
    "c = 'ABCD'\n",
    "print(c[2])\n",
    "#[] can used to access indexes of tuples and strings too\n",
    "d = {\"Key1\":\"Value1\",\"Key2\":{\"Key3\":\"Value2\",\"Key4\":\"Value3\"}}\n",
    "print(d[\"Key2\"][\"Key3\"])\n",
    "# [] is used to access different keys of dictionaries\n",
    "```\n",
    "<hr>"
   ]
  },
  {
   "cell_type": "markdown",
   "id": "cf8bf4fc",
   "metadata": {},
   "source": [
    "**2.** In a list of values stored in a variable called spam, how would you assign the value 'hello' as the third value? (Assume [2, 4, 6, 8, 10] are in spam.)"
   ]
  },
  {
   "cell_type": "markdown",
   "id": "c670928f",
   "metadata": {},
   "source": [
    "**Answer 2.**<br>\n",
    "We can use the `[]` to access the 3rd index or value and reassign it to 'hello' as:<br>\n",
    "```python\n",
    "spam[2] = 'hello'\n",
    "```\n",
    "<hr>"
   ]
  },
  {
   "cell_type": "markdown",
   "id": "ee021978",
   "metadata": {},
   "source": [
    "**Let&#39;s pretend the spam includes the list [&#39;a&#39;, &#39;b&#39;, &#39;c&#39;, &#39;d&#39;] for the next three queries.**\n",
    "<hr>"
   ]
  },
  {
   "cell_type": "markdown",
   "id": "c770edc3",
   "metadata": {},
   "source": [
    "**3.** What is the value of spam[int(int('3' * 2) / 11)]?"
   ]
  },
  {
   "cell_type": "markdown",
   "id": "68b648e1",
   "metadata": {},
   "source": [
    "**Answer 3.**<br>\n",
    "`spam[int(int('3' * 2) / 11)]` translate to `spam[3]`. If `spam = ['a','b','c','d']`, `spam[3]` gives `'d'`.\n",
    "<hr>"
   ]
  },
  {
   "cell_type": "markdown",
   "id": "ca09579c",
   "metadata": {},
   "source": [
    "**4.** What is the value of spam[-1]?"
   ]
  },
  {
   "cell_type": "markdown",
   "id": "771533af",
   "metadata": {},
   "source": [
    "**Answer 4.**<br>`spam[-1]` gives the last character in the list i.e. `'d'`.\n",
    "<hr>"
   ]
  },
  {
   "cell_type": "markdown",
   "id": "6520bf8a",
   "metadata": {},
   "source": [
    "**5.** What is the value of spam[:2]?"
   ]
  },
  {
   "cell_type": "markdown",
   "id": "d4aa8309",
   "metadata": {},
   "source": [
    "**Answer 5.**<br>\n",
    "`spam[:2]` gives the list of characters in spam till the index 2 i.e. `['a','b']`. <br>\n",
    "<hr>"
   ]
  },
  {
   "cell_type": "markdown",
   "id": "3035b5c8",
   "metadata": {},
   "source": [
    "Let&#39;s pretend bacon has the list [3.14, &#39;cat,&#39; 11, &#39;cat,&#39; True] for the next three questions.\n",
    "<hr>"
   ]
  },
  {
   "cell_type": "markdown",
   "id": "0f1bd78f",
   "metadata": {},
   "source": [
    "**6.** What is the value of bacon.index(&#39;cat&#39;)?"
   ]
  },
  {
   "cell_type": "markdown",
   "id": "d6ba4334",
   "metadata": {},
   "source": [
    "**Answer 6.**<br>\n",
    "`bacon.index('cat')` return the index for first instance of 'cat' in bacon i.e. **1**.\n",
    "<hr>"
   ]
  },
  {
   "cell_type": "markdown",
   "id": "9d886fb5",
   "metadata": {},
   "source": [
    "**7.** How does bacon.append(99) change the look of the list value in bacon?"
   ]
  },
  {
   "cell_type": "markdown",
   "id": "59cb1889",
   "metadata": {},
   "source": [
    "**Answer 7.**<br>\n",
    "`bacon.append(99)` adds the value 99 to the list bacon after the last item in bacon, increasing it's size. bacon becomes `[3.14, 'cat', 11, 'cat', True, 99]`.\n",
    "<hr>"
   ]
  },
  {
   "cell_type": "markdown",
   "id": "848dda53",
   "metadata": {},
   "source": [
    "**8.** How does bacon.remove(&#39;cat&#39;) change the look of the list in bacon?"
   ]
  },
  {
   "cell_type": "markdown",
   "id": "6d1088a6",
   "metadata": {},
   "source": [
    "**Answer 8.**<br>\n",
    "`bacon.remove('cat')` removes the first instance of 'cat' from the list bacon. bacon becomes `[3.14, 11, 'cat', True, 99]`.\n",
    "<hr>"
   ]
  },
  {
   "cell_type": "markdown",
   "id": "423a33bf",
   "metadata": {},
   "source": [
    "**9.** What are the list concatenation and list replication operators?"
   ]
  },
  {
   "cell_type": "markdown",
   "id": "9973c6e6",
   "metadata": {},
   "source": [
    "**Answer 9.**<br>\n",
    "List concatenation operator is  `+` while list replication operator is `*`.\n",
    "<hr>"
   ]
  },
  {
   "cell_type": "markdown",
   "id": "e1f3cc08",
   "metadata": {},
   "source": [
    "**10.** What is difference between the list methods append() and insert()?"
   ]
  },
  {
   "cell_type": "markdown",
   "id": "db60a65d",
   "metadata": {},
   "source": [
    "**Answer 10.**<br>\n",
    "`append()` adds new elements to the back of a list. It has the syntax: `list_name.append(element to add)`. <br>\n",
    "While `insert()` is used to insert element into any position in a list with syntax: `list_name.insert(position, element)`. <br>\n",
    "For instance:\n",
    "```python\n",
    "l1 = [ 1, 2, 3, 4]\n",
    "l2 = [ 5, 6]\n",
    "l1.append(l2) #add l2 at end of l1\n",
    "l1.inset(0, 9) #add 9 at 0th index\n",
    "```\n",
    "<hr>"
   ]
  },
  {
   "cell_type": "markdown",
   "id": "bff5aeed",
   "metadata": {},
   "source": [
    "**11.** What are the two methods for removing items from a list?"
   ]
  },
  {
   "cell_type": "markdown",
   "id": "ea2f3b4c",
   "metadata": {},
   "source": [
    "**Answer 2.**<br>\n",
    "The methods of removing items from a list are:\n",
    "1. `remove()`: It removes the first instance of the element with the specified value. Uses the syntax *list_name.remove(element_to_remove)*.\n",
    "2. `pop()`: It removes the element at the specified index. Its syntax is *list_name.pop(index_to_removed)*.\n",
    "3. `clear()`: It removes all the elements in the list. Syntax is *list_name.clear()*.\n",
    "<hr>"
   ]
  },
  {
   "cell_type": "markdown",
   "id": "d110f10e",
   "metadata": {},
   "source": [
    "**12.** Describe how list values and string values are identical."
   ]
  },
  {
   "cell_type": "markdown",
   "id": "3aa78118",
   "metadata": {},
   "source": [
    "**Answer 12.**<br>\n",
    "Lists and Strings are both ordered sequence of elements. We can perform slicing operations in both lists and strings using indexes. \n",
    "<hr>"
   ]
  },
  {
   "cell_type": "markdown",
   "id": "ed8182af",
   "metadata": {},
   "source": [
    "**13.** What's the difference between tuples and lists?"
   ]
  },
  {
   "cell_type": "markdown",
   "id": "69060c74",
   "metadata": {},
   "source": [
    "**Answer 13.**<br>\n",
    "Tuple are immutable while lists are mutable i.e. the value of elements of a list can be changed later but they cannot be modified later in tuples. <hr>"
   ]
  },
  {
   "cell_type": "markdown",
   "id": "2e0c834d",
   "metadata": {},
   "source": [
    "**14.** How do you type a tuple value that only contains the integer 42?"
   ]
  },
  {
   "cell_type": "markdown",
   "id": "8a7648e9",
   "metadata": {},
   "source": [
    "**Answer 14.**<br>\n",
    "`t = (42,)`\n",
    "<hr>"
   ]
  },
  {
   "cell_type": "markdown",
   "id": "8c7aee49",
   "metadata": {},
   "source": [
    "**15.** How do you get a list value's tuple form? How do you get a tuple value's list form?"
   ]
  },
  {
   "cell_type": "markdown",
   "id": "da2f1032",
   "metadata": {},
   "source": [
    "**Answer 15.**<br>\n",
    "We can typecast tuples into lists using `list` keyword and lists into tuples using `tuple` keyword.<br>\n",
    "For instance:\n",
    "```python\n",
    "l = [1,2,3]\n",
    "t = [4, 5, 6]\n",
    "l = tuple(l) # l becomes a tuple\n",
    "t = list(t) # t becomes a list\n",
    "```\n",
    "<hr>"
   ]
  },
  {
   "cell_type": "markdown",
   "id": "aba3f61d",
   "metadata": {},
   "source": [
    "**16.** Variables that \"contain\" list values are not necessarily lists themselves. Instead, what do they contain?"
   ]
  },
  {
   "cell_type": "markdown",
   "id": "c54c6f81",
   "metadata": {},
   "source": [
    "**Answer 16.** <br>\n",
    "Variable that contain list values actually contain the address of the first element of the list it is representing. They are pointers and point to the memory location where list elements are stored.\n",
    "<hr>"
   ]
  },
  {
   "cell_type": "markdown",
   "id": "8aaf1301",
   "metadata": {},
   "source": [
    "**17.** How do you distinguish between copy.copy() and copy.deepcopy()?"
   ]
  },
  {
   "cell_type": "markdown",
   "id": "188a7f3c",
   "metadata": {},
   "source": [
    "**Answer 17.**<br>\n",
    "`copy.copy()` function creates a shallow copy of a list. In the process of shallow copy, no new list instance is created, just the reference is linked with the new variable so any changes made to the new copy is made in the original copy of the list as well.<br>\n",
    "`copy.deepcopy()` function creates a deep copy of a list where new collection is created and populated with the elements of the old list. New copy does not affect the old list if changes are made to it.\n",
    "<hr>"
   ]
  }
 ],
 "metadata": {
  "kernelspec": {
   "display_name": "Python 3 (ipykernel)",
   "language": "python",
   "name": "python3"
  },
  "language_info": {
   "codemirror_mode": {
    "name": "ipython",
    "version": 3
   },
   "file_extension": ".py",
   "mimetype": "text/x-python",
   "name": "python",
   "nbconvert_exporter": "python",
   "pygments_lexer": "ipython3",
   "version": "3.9.7"
  }
 },
 "nbformat": 4,
 "nbformat_minor": 5
}

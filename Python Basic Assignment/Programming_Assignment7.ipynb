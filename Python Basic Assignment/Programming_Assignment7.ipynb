{
 "cells": [
  {
   "cell_type": "markdown",
   "id": "e29d9126",
   "metadata": {},
   "source": [
    "**1.** Write a Python Program to find sum of array?"
   ]
  },
  {
   "cell_type": "code",
   "execution_count": 2,
   "id": "adcf54d4",
   "metadata": {},
   "outputs": [
    {
     "name": "stdout",
     "output_type": "stream",
     "text": [
      "Enter the count of numbers in the array: 3\n",
      "Enter 3 numbers: \n",
      "Number 1: 1\n",
      "Number 2: 2\n",
      "Number 3: 3\n",
      "The sum of numbers of array is eqaul to 6\n"
     ]
    }
   ],
   "source": [
    "# code\n",
    "# Asking the user for numbers to enter into an array \n",
    "while (True):\n",
    "    try:\n",
    "        n = int(input(\"Enter the count of numbers in the array: \"))\n",
    "        print(f\"Enter {n} numbers: \")\n",
    "        l = []\n",
    "        for i in range(n):\n",
    "            temp = int(input(f\"Number {i+1}: \"))\n",
    "            l.append(temp)\n",
    "    except Exception as e:\n",
    "        print(\"Some error occured. Please try again\", e)\n",
    "    else:\n",
    "        break\n",
    "        \n",
    "def sum_array(l):\n",
    "    '''Returns the sum of every element of an array/list'''\n",
    "    sum = 0\n",
    "    for i in l:\n",
    "        sum = sum + i\n",
    "    return sum\n",
    "\n",
    "print(f\"The sum of numbers of array is eqaul to {sum_array(l)}\")"
   ]
  },
  {
   "cell_type": "markdown",
   "id": "c7f48c26",
   "metadata": {},
   "source": [
    "<hr>"
   ]
  },
  {
   "cell_type": "markdown",
   "id": "9eea7b15",
   "metadata": {},
   "source": [
    "**2.** Write a Python Program to find largest element in an array?"
   ]
  },
  {
   "cell_type": "code",
   "execution_count": 3,
   "id": "8307939e",
   "metadata": {},
   "outputs": [
    {
     "name": "stdout",
     "output_type": "stream",
     "text": [
      "Enter the count of numbers in the array: 5\n",
      "Enter 5 numbers: \n",
      "Number 1: 12\n",
      "Number 2: 85\n",
      "Number 3: 95\n",
      "Number 4: 45\n",
      "Number 5: 35\n",
      "The largest element of the array is 95\n"
     ]
    }
   ],
   "source": [
    "#code \n",
    "# Asking the user for numbers to enter into an array \n",
    "while (True):\n",
    "    try:\n",
    "        n = int(input(\"Enter the count of numbers in the array: \"))\n",
    "        print(f\"Enter {n} numbers: \")\n",
    "        l = []\n",
    "        for i in range(n):\n",
    "            temp = int(input(f\"Number {i+1}: \"))\n",
    "            l.append(temp)\n",
    "    except Exception as e:\n",
    "        print(\"Some error occured. Please try again\", e)\n",
    "    else:\n",
    "        break\n",
    "        \n",
    "def largest(l):\n",
    "    '''returns the largest element in an array or list'''\n",
    "    lar = 0\n",
    "    for i in l:\n",
    "        if i > lar:\n",
    "            lar = i\n",
    "    return lar\n",
    "print(f\"The largest element of the array is {largest(l)}\")"
   ]
  },
  {
   "cell_type": "markdown",
   "id": "cb1d5256",
   "metadata": {},
   "source": [
    "<hr>"
   ]
  },
  {
   "cell_type": "markdown",
   "id": "d726a7b2",
   "metadata": {},
   "source": [
    "**3.** Write a Python Program for array rotation?"
   ]
  },
  {
   "cell_type": "code",
   "execution_count": 22,
   "id": "3993133c",
   "metadata": {},
   "outputs": [
    {
     "name": "stdout",
     "output_type": "stream",
     "text": [
      "Enter the count of numbers in the array: 5\n",
      "Enter 5 numbers: \n",
      "Number 1: 1\n",
      "Number 2: 2\n",
      "Number 3: \n",
      "Some error occured. Please try again invalid literal for int() with base 10: ''\n",
      "Enter the count of numbers in the array: 5\n",
      "Enter 5 numbers: \n",
      "Number 1: 1\n",
      "Number 2: 2\n",
      "Number 3: 3\n",
      "Number 4: 4\n",
      "Number 5: 5\n",
      "Enter the rotatation value2\n",
      "Original array equals:  [1, 2, 3, 4, 5]\n",
      "Array rotated by 2:  [3, 4, 5, 1, 2]\n"
     ]
    }
   ],
   "source": [
    "#code \n",
    "# Asking the user for numbers to enter into an array \n",
    "while (True):\n",
    "    try:\n",
    "        n = int(input(\"Enter the count of numbers in the array: \"))\n",
    "        print(f\"Enter {n} numbers: \")\n",
    "        l = []\n",
    "        for i in range(n):\n",
    "            temp = int(input(f\"Number {i+1}: \"))\n",
    "            l.append(temp)\n",
    "            \n",
    "        d = int(input(\"Enter the rotatation value: \"))\n",
    "        if (d>len(l)):\n",
    "            raise\n",
    "    except Exception as e:\n",
    "        print(\"Some error occured. Please try again\", e)\n",
    "    else:\n",
    "        break\n",
    "def rotate_arr(l,d):\n",
    "    '''Swift all elements of an array l to the left by d places'''\n",
    "    temp = []\n",
    "    \n",
    "    # all elements from d moved to left\n",
    "    for i in range(d, len(l)):\n",
    "        temp.append(l[i])\n",
    "    #for remaining digits\n",
    "    for i in range(d):\n",
    "        temp.append(l[i])\n",
    "    return temp\n",
    "\n",
    "# print(l)\n",
    "# print(rotate_arr(l,3))\n",
    "rotated_l = rotate_arr(l,d)\n",
    "print(\"Original array equals: \", l)\n",
    "print(f\"Array rotated by {d}: \", rotated_l)"
   ]
  },
  {
   "cell_type": "markdown",
   "id": "70d5dd75",
   "metadata": {},
   "source": [
    "<hr>"
   ]
  },
  {
   "cell_type": "markdown",
   "id": "91a679bb",
   "metadata": {},
   "source": [
    "**4.** Write a Python Program to Split the array and add the first part to the end?"
   ]
  },
  {
   "cell_type": "code",
   "execution_count": 23,
   "id": "39f9bea9",
   "metadata": {},
   "outputs": [
    {
     "name": "stdout",
     "output_type": "stream",
     "text": [
      "Enter the count of numbers in the array: 5\n",
      "Enter 5 numbers: \n",
      "Number 1: 1\n",
      "Number 2: 2\n",
      "Number 3: 3\n",
      "Number 4: 4\n",
      "Number 5: 5\n",
      "Enter the splitting value4\n",
      "Original array equals:  [1, 2, 3, 4, 5]\n",
      "Array split by 4:  [5, 1, 2, 3, 4]\n"
     ]
    }
   ],
   "source": [
    "#code \n",
    "# Asking the user for numbers to enter into an array \n",
    "while (True):\n",
    "    try:\n",
    "        n = int(input(\"Enter the count of numbers in the array: \"))\n",
    "        print(f\"Enter {n} numbers: \")\n",
    "        l = []\n",
    "        for i in range(n):\n",
    "            temp = int(input(f\"Number {i+1}: \"))\n",
    "            l.append(temp)\n",
    "            \n",
    "        d = int(input(\"Enter the splitting value: \"))\n",
    "        if (d>len(l)):\n",
    "            raise\n",
    "    except Exception as e:\n",
    "        print(\"Some error occured. Please try again\", e)\n",
    "    else:\n",
    "        break\n",
    "def split_arr(l,d):\n",
    "    '''split all elements of an array l and add the first d elements to last'''\n",
    "    temp = []\n",
    "    \n",
    "    # all elements from d moved to left\n",
    "    for i in range(d, len(l)):\n",
    "        temp.append(l[i])\n",
    "    #for remaining digits\n",
    "    for i in range(d):\n",
    "        temp.append(l[i])\n",
    "    return temp\n",
    "\n",
    "# print(l)\n",
    "# print(rotate_arr(l,3))\n",
    "split_l = split_arr(l,d)\n",
    "print(\"Original array equals: \", l)\n",
    "print(f\"Array split by {d}: \", split_l)"
   ]
  },
  {
   "cell_type": "markdown",
   "id": "d793bf41",
   "metadata": {},
   "source": [
    "<hr>"
   ]
  },
  {
   "cell_type": "markdown",
   "id": "d6e05522",
   "metadata": {},
   "source": [
    "**5.**Write a Python Program to check if given array is Monotonic?"
   ]
  },
  {
   "cell_type": "code",
   "execution_count": 30,
   "id": "d93b1cb0",
   "metadata": {},
   "outputs": [
    {
     "name": "stdout",
     "output_type": "stream",
     "text": [
      "Enter the count of numbers in the array: 4\n",
      "Enter 4 numbers: \n",
      "Number 1: 1\n",
      "Number 2: 2\n",
      "Number 3: 3\n",
      "Number 4: 4\n",
      "[1, 2, 3, 4]\n",
      "[4, 3, 2, 1]\n",
      "Array is monotonic\n"
     ]
    }
   ],
   "source": [
    "#code\n",
    "# Asking the user for numbers to enter into an array \n",
    "while (True):\n",
    "    try:\n",
    "        n = int(input(\"Enter the count of numbers in the array: \"))\n",
    "        print(f\"Enter {n} numbers: \")\n",
    "        l = []\n",
    "        for i in range(n):\n",
    "            temp = int(input(f\"Number {i+1}: \"))\n",
    "            l.append(temp)\n",
    "    except Exception as e:\n",
    "        print(\"Some error occured. Please try again\", e)\n",
    "    else:\n",
    "        break\n",
    "        \n",
    "def check_monotonic(l):\n",
    "    l_sort,l_reve = [],[]\n",
    "    l_sort.extend(l)\n",
    "    l_reve.extend(l)\n",
    "    l_sort.sort()\n",
    "    l_reve.sort(reverse = True)\n",
    "    \n",
    "    print(l_sort)\n",
    "    print(l_reve)\n",
    "    \n",
    "    if (l == l_sort) or (l == l_reve):\n",
    "        return True\n",
    "    else:\n",
    "        return False\n",
    "if(check_monotonic(l)):\n",
    "    print(\"Array is monotonic\")\n",
    "else:\n",
    "    print(\"Array is not monotonic\")"
   ]
  },
  {
   "cell_type": "markdown",
   "id": "7fcb08f6",
   "metadata": {},
   "source": [
    "<hr>"
   ]
  }
 ],
 "metadata": {
  "kernelspec": {
   "display_name": "Python 3 (ipykernel)",
   "language": "python",
   "name": "python3"
  },
  "language_info": {
   "codemirror_mode": {
    "name": "ipython",
    "version": 3
   },
   "file_extension": ".py",
   "mimetype": "text/x-python",
   "name": "python",
   "nbconvert_exporter": "python",
   "pygments_lexer": "ipython3",
   "version": "3.9.7"
  }
 },
 "nbformat": 4,
 "nbformat_minor": 5
}

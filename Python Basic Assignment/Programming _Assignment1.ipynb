{
 "cells": [
  {
   "cell_type": "markdown",
   "id": "1ff19922",
   "metadata": {},
   "source": [
    "**1.** Write a Python program to print &quot;Hello Python&quot;?"
   ]
  },
  {
   "cell_type": "code",
   "execution_count": null,
   "id": "5ee43ef4",
   "metadata": {},
   "outputs": [],
   "source": [
    "#code:\n",
    "print('Hello Python')"
   ]
  },
  {
   "cell_type": "markdown",
   "id": "4020968c",
   "metadata": {},
   "source": [
    "<hr>"
   ]
  },
  {
   "cell_type": "markdown",
   "id": "2ccddd1d",
   "metadata": {},
   "source": [
    "**2.** Write a Python program to do arithmetical operations addition and division.?"
   ]
  },
  {
   "cell_type": "code",
   "execution_count": null,
   "id": "87b7a599",
   "metadata": {},
   "outputs": [],
   "source": [
    "#code:\n",
    "a = int(input('Enter First number, a:'))\n",
    "b = int(input('Enter Second number, b:'))\n",
    "c = a + b\n",
    "d = a / b\n",
    "print(f'{a} + {b} = {c}')\n",
    "print(f'{a} / {b} = {d}')"
   ]
  },
  {
   "cell_type": "markdown",
   "id": "c226dac9",
   "metadata": {},
   "source": [
    "<hr>"
   ]
  },
  {
   "cell_type": "markdown",
   "id": "c55f5f5d",
   "metadata": {},
   "source": [
    "**3.** Write a Python program to find the area of a triangle?"
   ]
  },
  {
   "cell_type": "code",
   "execution_count": null,
   "id": "26a34843",
   "metadata": {},
   "outputs": [],
   "source": [
    "#code of area of triangle using Heron's formula\n",
    "import math\n",
    "print('Enter the length of three sides of the triangle\\n')\n",
    "a = int(input('a: '))\n",
    "b = int(input('b: '))\n",
    "c = int(input('c: '))\n",
    "s = (a + b + c) / 2\n",
    "area = math.sqrt(s * (s-a) * (s-b) * (s-c))\n",
    "area = round(area, 2)\n",
    "print(f'Area of triangle of side ({a}, {b}, {c}) is equal to {area}')"
   ]
  },
  {
   "cell_type": "markdown",
   "id": "66c5be12",
   "metadata": {},
   "source": [
    "<hr>"
   ]
  },
  {
   "cell_type": "markdown",
   "id": "15c647c8",
   "metadata": {},
   "source": [
    "**4.** Write a Python program to swap two variables?"
   ]
  },
  {
   "cell_type": "code",
   "execution_count": null,
   "id": "678196bd",
   "metadata": {},
   "outputs": [],
   "source": [
    "#code for swapping using a temp variable\n",
    "a = input('Enter first value, a: ')\n",
    "b = input('Enter  Second value, b: ')\n",
    "temp = b\n",
    "b = a\n",
    "a = temp\n",
    "print(f'a : {a}')\n",
    "print(f'b : {b}')"
   ]
  },
  {
   "cell_type": "markdown",
   "id": "f54af4c7",
   "metadata": {},
   "source": [
    "<hr>"
   ]
  },
  {
   "cell_type": "markdown",
   "id": "a9b906ab",
   "metadata": {},
   "source": [
    "**5.** Write a Python program to generate a random number?"
   ]
  },
  {
   "cell_type": "code",
   "execution_count": null,
   "id": "354a51ea",
   "metadata": {},
   "outputs": [],
   "source": [
    "#code using random module\n",
    "import random \n",
    "a = random.randint(1,9)\n",
    "# a is random number from 1 tp 9\n",
    "print(a)"
   ]
  },
  {
   "cell_type": "markdown",
   "id": "39df0e4d",
   "metadata": {},
   "source": [
    "<hr>"
   ]
  },
  {
   "cell_type": "code",
   "execution_count": null,
   "id": "98beeb63",
   "metadata": {},
   "outputs": [],
   "source": []
  }
 ],
 "metadata": {
  "kernelspec": {
   "display_name": "Python 3 (ipykernel)",
   "language": "python",
   "name": "python3"
  },
  "language_info": {
   "codemirror_mode": {
    "name": "ipython",
    "version": 3
   },
   "file_extension": ".py",
   "mimetype": "text/x-python",
   "name": "python",
   "nbconvert_exporter": "python",
   "pygments_lexer": "ipython3",
   "version": "3.9.7"
  }
 },
 "nbformat": 4,
 "nbformat_minor": 5
}

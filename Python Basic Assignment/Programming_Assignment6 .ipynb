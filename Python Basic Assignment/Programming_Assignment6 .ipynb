{
 "cells": [
  {
   "cell_type": "markdown",
   "id": "4b71c959",
   "metadata": {},
   "source": [
    "**1.** Write a Python Program to Display Fibonacci Sequence Using Recursion?"
   ]
  },
  {
   "cell_type": "code",
   "execution_count": 6,
   "id": "80b50b1a",
   "metadata": {},
   "outputs": [
    {
     "name": "stdout",
     "output_type": "stream",
     "text": [
      "Enter the length of the Fibonacci sequence: 5\n",
      "Fibonacci sequence of 5 numbers: 0 1 1 2 3 "
     ]
    }
   ],
   "source": [
    "#code\n",
    "# Asking user for length of the series\n",
    "while True:\n",
    "    try:\n",
    "        x = int(input('Enter the length of the Fibonacci sequence: '))\n",
    "        if x <= 0:\n",
    "            raise\n",
    "    except:\n",
    "        print('Some error ocurred, try again')\n",
    "    else:\n",
    "        break\n",
    "        \n",
    "def fibo(n):\n",
    "    '''Returns the sum of n natural numbers'''\n",
    "    if n <= 1:\n",
    "        return n\n",
    "    else:\n",
    "        return(fibo(n-1) + fibo(n-2))\n",
    "\n",
    "print(f\"Fibonacci sequence of {x} numbers:\",end =' ')\n",
    "for i in range(x):\n",
    "    print(fibo(i),end=\" \")"
   ]
  },
  {
   "cell_type": "markdown",
   "id": "40a34701",
   "metadata": {},
   "source": [
    "<hr>"
   ]
  },
  {
   "cell_type": "markdown",
   "id": "2a7d1191",
   "metadata": {},
   "source": [
    "**2.** Write a Python Program to Find Factorial of Number Using Recursion?"
   ]
  },
  {
   "cell_type": "code",
   "execution_count": 1,
   "id": "26cfe364",
   "metadata": {},
   "outputs": [
    {
     "name": "stdout",
     "output_type": "stream",
     "text": [
      "Enter a number  0\n",
      "Factorial of 0, 0!= 1\n"
     ]
    }
   ],
   "source": [
    "#code\n",
    "# Asking user for length of the series\n",
    "while True:\n",
    "    try:\n",
    "        n = int(input('Enter a number  '))\n",
    "        if n < 0:\n",
    "            raise\n",
    "    except:\n",
    "        print('Some error ocurred, try again')\n",
    "    else:\n",
    "        break\n",
    "def fact(n):\n",
    "    '''Returns factorial of n '''\n",
    "    \n",
    "    #base case:\n",
    "    if (n==1) or (n==0):\n",
    "        return 1\n",
    "    else:\n",
    "        return n * fact(n-1)\n",
    "print(f\"Factorial of {n}, {n}!= {fact(n)}\")"
   ]
  },
  {
   "cell_type": "markdown",
   "id": "8316e4e8",
   "metadata": {},
   "source": [
    "<hr>"
   ]
  },
  {
   "cell_type": "markdown",
   "id": "43ed3502",
   "metadata": {},
   "source": [
    "**3.** Write a Python Program to calculate your Body Mass Index?"
   ]
  },
  {
   "cell_type": "code",
   "execution_count": 4,
   "id": "3d5a1ea0",
   "metadata": {},
   "outputs": [
    {
     "name": "stdout",
     "output_type": "stream",
     "text": [
      "Enter Weight in Kilograms 77\n",
      "Enter height in Centimeters 186\n",
      "BMI:  22.257\n"
     ]
    }
   ],
   "source": [
    "# Code\n",
    "# Asking user for weight and height\n",
    "while True:\n",
    "    try:\n",
    "        wt = int(input('Enter Weight in Kilograms '))\n",
    "        ht = int(input('Enter height in Centimeters '))\n",
    "        if ht <= 0 or wt <= 0:\n",
    "            raise\n",
    "    except:\n",
    "        print('Some error ocurred, try again')\n",
    "    else:\n",
    "        break\n",
    "ht = ht/100\n",
    "bmi = wt / (ht**2)\n",
    "print(\"BMI: \",round(bmi,3))"
   ]
  },
  {
   "cell_type": "markdown",
   "id": "f62b1c81",
   "metadata": {},
   "source": [
    "<hr>"
   ]
  },
  {
   "cell_type": "markdown",
   "id": "a88b0ab2",
   "metadata": {},
   "source": [
    "**4.** Write a Python Program to calculate the natural logarithm of any number?"
   ]
  },
  {
   "cell_type": "code",
   "execution_count": 6,
   "id": "8b675aad",
   "metadata": {},
   "outputs": [
    {
     "name": "stdout",
     "output_type": "stream",
     "text": [
      "Enter a number  4\n",
      "Natural logarithm of 4 is 1.3862943611198906\n"
     ]
    }
   ],
   "source": [
    "# Code using log functions from numpy library \n",
    "import numpy\n",
    "#asking for a number\n",
    "while True:\n",
    "    try:\n",
    "        n = int(input('Enter a number  '))\n",
    "        if n < 0:\n",
    "            raise\n",
    "    except:\n",
    "        print('Some error ocurred, try again')\n",
    "    else:\n",
    "        break\n",
    "x = numpy.log(n)\n",
    "print(f\"Natural logarithm of {n} is {x}\")"
   ]
  },
  {
   "cell_type": "markdown",
   "id": "95daefcd",
   "metadata": {},
   "source": [
    "<hr>"
   ]
  },
  {
   "cell_type": "markdown",
   "id": "6663a4ff",
   "metadata": {},
   "source": [
    "**5.** Write a Python Program for cube sum of first n natural numbers?"
   ]
  },
  {
   "cell_type": "code",
   "execution_count": 9,
   "id": "64a0e690",
   "metadata": {},
   "outputs": [
    {
     "name": "stdout",
     "output_type": "stream",
     "text": [
      "Enter a number  3\n",
      "Cube sum of first 3 natural numbers is 36\n"
     ]
    }
   ],
   "source": [
    "#asking for a number\n",
    "while True:\n",
    "    try:\n",
    "        n = int(input('Enter a number  '))\n",
    "        if n < 0:\n",
    "            raise\n",
    "    except:\n",
    "        print('Some error ocurred, try again')\n",
    "    else:\n",
    "        break\n",
    "x = 0\n",
    "for i in range(1,n+1):\n",
    "    x = x + i**3\n",
    "    \n",
    "print(f\"Cube sum of first {n} natural numbers is {x}\")"
   ]
  },
  {
   "cell_type": "markdown",
   "id": "49983116",
   "metadata": {},
   "source": [
    "<hr>"
   ]
  }
 ],
 "metadata": {
  "kernelspec": {
   "display_name": "Python 3 (ipykernel)",
   "language": "python",
   "name": "python3"
  },
  "language_info": {
   "codemirror_mode": {
    "name": "ipython",
    "version": 3
   },
   "file_extension": ".py",
   "mimetype": "text/x-python",
   "name": "python",
   "nbconvert_exporter": "python",
   "pygments_lexer": "ipython3",
   "version": "3.9.7"
  }
 },
 "nbformat": 4,
 "nbformat_minor": 5
}

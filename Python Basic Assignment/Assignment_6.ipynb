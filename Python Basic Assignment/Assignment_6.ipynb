{
 "cells": [
  {
   "cell_type": "markdown",
   "id": "508db8e3",
   "metadata": {},
   "source": [
    "**1.** What are escape characters, and how do you use them?"
   ]
  },
  {
   "cell_type": "markdown",
   "id": "8fbab890",
   "metadata": {},
   "source": [
    "**Answer 1.**<br>\n",
    "Escape characters are special characters which are difficult to add into a string. They  can be only be added using escpace character `'\\'` backslash. Escape characters are `'\\'` followed by the character to be inserted in the string. Python ignores the `'\\'` and only add the character following it. Some of them are:\n",
    "1. `\\'` : single quote\n",
    "2. `\\\"` : double quote\n",
    "3. `\\n` : new line\n",
    "4. `\\t` : tab (4 spaces)\n",
    "5. `\\\\` : backslash\n",
    "<hr>"
   ]
  },
  {
   "cell_type": "markdown",
   "id": "93e2acbc",
   "metadata": {},
   "source": [
    "**2.** What do the escape characters `\\n` and `\\t` stand for?"
   ]
  },
  {
   "cell_type": "markdown",
   "id": "a66dcf15",
   "metadata": {},
   "source": [
    "**Answer 2.**<br>\n",
    "`\\n` means newline and `\\t` means tab i.e. four spaces.\n",
    "<nr>"
   ]
  },
  {
   "cell_type": "markdown",
   "id": "382d2bbc",
   "metadata": {},
   "source": [
    "**3.** What is the way to include backslash characters in a string?"
   ]
  },
  {
   "cell_type": "markdown",
   "id": "623f3e0d",
   "metadata": {},
   "source": [
    "**Answer 3.**<br>\n",
    "Escape character `\\\\` can be used to include backslash character `\\` in a string.\n",
    "<hr>"
   ]
  },
  {
   "cell_type": "markdown",
   "id": "20cad2d8",
   "metadata": {},
   "source": [
    "**4.** The string \"Howl's Moving Castle\" is a correct value. Why isn't the single quote character in the word Howl's not escaped a problem?"
   ]
  },
  {
   "cell_type": "markdown",
   "id": "3a592005",
   "metadata": {},
   "source": [
    "**Answer 4.** We used double qoutes \\\" to inclose the string, that's why the \\' single quote in Howl's did not encounter any problem.\n",
    "<hr>"
   ]
  },
  {
   "cell_type": "markdown",
   "id": "48ac3ac8",
   "metadata": {},
   "source": [
    "**5.** How do you write a string of newlines if you don&#39;t want to use the `\\n` character?"
   ]
  },
  {
   "cell_type": "markdown",
   "id": "14fcd49c",
   "metadata": {},
   "source": [
    "**Answer 5.**<br>\n",
    "Multiline string defined using triple double quotes (\"\"\"string\"\"\") or single quotes ('''string''') can be used to write a string of newlines without `\\n`.<br>\n",
    "Example:\n",
    "```python\n",
    "x = \"\"\"This is a string\n",
    "       which uses multiple lines\n",
    "       without the use of \\n character\"\"\"\n",
    "```\n",
    "<hr>"
   ]
  },
  {
   "cell_type": "markdown",
   "id": "282c5d06",
   "metadata": {},
   "source": [
    "6. What are the values of the given expressions?\n",
    "```python\n",
    "'Hello, world!'[1]\n",
    "'Hello, world!'[0:5]\n",
    "'Hello, world!'[:5]\n",
    "'Hello, world!'[3:]\n",
    "```\n"
   ]
  },
  {
   "cell_type": "markdown",
   "id": "00b69e5d",
   "metadata": {},
   "source": [
    "**Answer 6.** <br>\n",
    "- `'e'` : gives the element at [1] index\n",
    "- `'Hello'` : gives the elements from index 0 to index 5 [0:5]\n",
    "- `'Hello'` : gives the elements from default index 0 to index 5 [:5]\n",
    "- `'lo world!'` gives the element from index 3 till default index -1 (last element)\n",
    "<hr>"
   ]
  },
  {
   "cell_type": "markdown",
   "id": "86e2b986",
   "metadata": {},
   "source": [
    "7. What are the values of the following expressions?\n",
    "```python\n",
    "'Hello'.upper()\n",
    "'Hello'.upper().isupper()\n",
    "'Hello'.upper().lower()\n",
    "```"
   ]
  },
  {
   "cell_type": "markdown",
   "id": "f9bd708d",
   "metadata": {},
   "source": [
    "**Answer 7.**<br>\n",
    "- `'HELLO'` \n",
    "- `True`\n",
    "- `'hello'`\n",
    "<hr>"
   ]
  },
  {
   "cell_type": "markdown",
   "id": "fd2f5be2",
   "metadata": {},
   "source": [
    "**8.** What are the values of the following expressions?\n",
    "```python\n",
    "'Remember, remember, the fifth of July'.split()\n",
    "'-'.join('There can only one'.split())\n",
    "```"
   ]
  },
  {
   "cell_type": "markdown",
   "id": "6b2cb58a",
   "metadata": {},
   "source": [
    "**Answer 8.**<br>\n",
    "- `['Remember,', 'remember,', 'the', 'fifth', 'of', 'November.']` : every entry of the string is split at blank places and put in a list\n",
    "- `'There-can-be-only-one.'` : first the string is split at blank spaces and then join with '-' betwwen each element.\n",
    "<hr>"
   ]
  },
  {
   "cell_type": "markdown",
   "id": "bc9b7e90",
   "metadata": {},
   "source": [
    "**9.** What are the methods for right-justifying, left-justifying, and centering a string?"
   ]
  },
  {
   "cell_type": "markdown",
   "id": "3c920e87",
   "metadata": {},
   "source": [
    "**Answer 9.**<br>\n",
    "1. right-justifying : `rjust()`\n",
    "2. left-justifying : `ljust()`\n",
    "3. centering: `center()`<br>\n",
    "*Example:*\n",
    "```python\n",
    "a = \"abc\"\n",
    "x = a.rjust(20) \n",
    "#creates a string of 20 size with 'abc' at rightmost position. other 17 elements  are spaces\n",
    "y = a.ljust(20, \"d\")\n",
    "##creates a string of 10 size with 'abc' at leftmost position. other 7 elements  are d\n",
    "z = center(12, '!')\n",
    "##creates a string of 10 size with 'abc' at centre position. other 9 elements are !\n",
    "```\n",
    "<hr>"
   ]
  },
  {
   "cell_type": "markdown",
   "id": "f1f3b67f",
   "metadata": {},
   "source": [
    "**10.** What is the best way to remove whitespace characters from the start or end?"
   ]
  },
  {
   "cell_type": "markdown",
   "id": "1dcf0335",
   "metadata": {},
   "source": [
    "**Answer 10.**<br>\n",
    "To remove white space from start of string use `string_name.lstrip()` and to remove from end use `string_name.rstrip()`.\n",
    "<hr>"
   ]
  }
 ],
 "metadata": {
  "kernelspec": {
   "display_name": "Python 3 (ipykernel)",
   "language": "python",
   "name": "python3"
  },
  "language_info": {
   "codemirror_mode": {
    "name": "ipython",
    "version": 3
   },
   "file_extension": ".py",
   "mimetype": "text/x-python",
   "name": "python",
   "nbconvert_exporter": "python",
   "pygments_lexer": "ipython3",
   "version": "3.9.7"
  }
 },
 "nbformat": 4,
 "nbformat_minor": 5
}

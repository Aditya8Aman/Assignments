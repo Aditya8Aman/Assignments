{
 "cells": [
  {
   "cell_type": "markdown",
   "id": "7c4e996a",
   "metadata": {},
   "source": [
    "**1.** Write a Python Program to Find the Factorial of a Number?"
   ]
  },
  {
   "cell_type": "code",
   "execution_count": null,
   "id": "8e4b1809",
   "metadata": {},
   "outputs": [],
   "source": [
    "#code using recursion\n",
    "def fact(x):\n",
    "    if (x == 1 or x == 0):\n",
    "        return 1\n",
    "    else:\n",
    "        return (x * fact(x - 1))\n",
    "    \n",
    "while True:\n",
    "    try:\n",
    "        a = int(input('Enter a number: '))\n",
    "        if (a < 0):\n",
    "            raise\n",
    "        break\n",
    "    except:\n",
    "        print('Error. Try entering a valid number.')\n",
    "        continue\n",
    "f = fact(a)\n",
    "print(f\"The factorial of {a} is equal to {f}\")\n"
   ]
  },
  {
   "cell_type": "markdown",
   "id": "732a519b",
   "metadata": {},
   "source": [
    "<hr>"
   ]
  },
  {
   "cell_type": "markdown",
   "id": "9e387569",
   "metadata": {},
   "source": [
    "**2.** Write a Python Program to Display the multiplication Table?"
   ]
  },
  {
   "cell_type": "code",
   "execution_count": null,
   "id": "aab7372a",
   "metadata": {},
   "outputs": [],
   "source": [
    "#code:\n",
    "x = int(input('Enter a number: '))\n",
    "\n",
    "print('Multiplication table of ',x,':')\n",
    "for i in range(1,11):\n",
    "    print(f\"{x} x {i} = {x*i}\")\n"
   ]
  },
  {
   "cell_type": "markdown",
   "id": "082776be",
   "metadata": {},
   "source": [
    "<hr>"
   ]
  },
  {
   "cell_type": "markdown",
   "id": "d22770b8",
   "metadata": {},
   "source": [
    "**3.** Write a Python Program to Print the Fibonacci sequence?"
   ]
  },
  {
   "cell_type": "code",
   "execution_count": null,
   "id": "96bce487",
   "metadata": {},
   "outputs": [],
   "source": [
    "#code using recursion:\n",
    "def fib(n):\n",
    "    if (n == 1):\n",
    "        return 1\n",
    "    else:\n",
    "        return ( n + fib(n-1))\n",
    "        \n",
    "while True:\n",
    "    try:\n",
    "        a = int(input('Enter a number: '))\n",
    "        if (a < 0):\n",
    "            raise\n",
    "        break\n",
    "    except:\n",
    "        print('Error. Try entering a valid number.')\n",
    "        continue\n",
    "\n",
    "x = fib(a)\n",
    "print(x)"
   ]
  },
  {
   "cell_type": "markdown",
   "id": "58c764ff",
   "metadata": {},
   "source": [
    "<hr>"
   ]
  },
  {
   "cell_type": "markdown",
   "id": "6fab6080",
   "metadata": {},
   "source": [
    "**4.** Write a Python Program to Check Armstrong Number?"
   ]
  },
  {
   "cell_type": "code",
   "execution_count": null,
   "id": "e903d3be",
   "metadata": {},
   "outputs": [],
   "source": [
    "# Armstrong Number if abcd = a**n + b**n + c**n + d**n where n = number of digits\n",
    "#code\n",
    "while True:\n",
    "    try:\n",
    "        num = int(input(\"Enter a number: \"))\n",
    "        break\n",
    "    except:\n",
    "        print(\"Error. Enter a valid number\")\n",
    "        continue\n",
    "        \n",
    "number = str(num)\n",
    "order = len(number)\n",
    "sum = 0\n",
    "for i in number:\n",
    "    sum += int(i)**order\n",
    "    \n",
    "if (sum == num):\n",
    "    print(f\"{num} is an Armstrong number\")\n",
    "    \n",
    "else:\n",
    "    print(f\"{num} is not an Armstrong number\")\n",
    "    \n",
    "       "
   ]
  },
  {
   "cell_type": "markdown",
   "id": "f2443a04",
   "metadata": {},
   "source": [
    "<hr>"
   ]
  },
  {
   "cell_type": "markdown",
   "id": "cc76257a",
   "metadata": {},
   "source": [
    "**5.** Write a Python Program to Find all the Armstrong Numbers in an Interval?"
   ]
  },
  {
   "cell_type": "code",
   "execution_count": null,
   "id": "c8b0dcab",
   "metadata": {},
   "outputs": [],
   "source": [
    "#code\n",
    "while True:\n",
    "    try:\n",
    "        low = int(input(\"Enter the lower limit: \"))\n",
    "        upper = int(input(\"Enter the upper limit: \"))\n",
    "        break\n",
    "    except:\n",
    "        print(\"Error. Try again\")\n",
    "        continue\n",
    "\n",
    "for i in range(low, upper + 1):\n",
    "    sum = 0\n",
    "    order = len(str(i))\n",
    "    \n",
    "    for j in str(i):\n",
    "        sum+=int(j)**order\n",
    "    \n",
    "    if (sum == i):\n",
    "        print(i)\n",
    "    "
   ]
  },
  {
   "cell_type": "markdown",
   "id": "82dc0237",
   "metadata": {},
   "source": [
    "<hr>"
   ]
  },
  {
   "cell_type": "markdown",
   "id": "a30b986a",
   "metadata": {},
   "source": [
    "**6.** Write a Python Program to Find the Sum of Natural Numbers?"
   ]
  },
  {
   "cell_type": "code",
   "execution_count": null,
   "id": "af984d3f",
   "metadata": {},
   "outputs": [],
   "source": [
    "#code\n",
    "while True:\n",
    "    try:\n",
    "        num = int(input(\"Enter a number: \"))\n",
    "        break\n",
    "    except:\n",
    "        print(\"Error. Enter a valid number\")\n",
    "        continue\n",
    "\n",
    "sum = 0\n",
    "for i in range(num+1):\n",
    "    sum += i\n",
    "print(f\"Sum of first {num} Natural Numbers is {sum}\")"
   ]
  },
  {
   "cell_type": "markdown",
   "id": "0b31f1d6",
   "metadata": {},
   "source": [
    "<hr>"
   ]
  }
 ],
 "metadata": {
  "kernelspec": {
   "display_name": "Python 3 (ipykernel)",
   "language": "python",
   "name": "python3"
  },
  "language_info": {
   "codemirror_mode": {
    "name": "ipython",
    "version": 3
   },
   "file_extension": ".py",
   "mimetype": "text/x-python",
   "name": "python",
   "nbconvert_exporter": "python",
   "pygments_lexer": "ipython3",
   "version": "3.9.7"
  }
 },
 "nbformat": 4,
 "nbformat_minor": 5
}

{
 "cells": [
  {
   "cell_type": "markdown",
   "id": "7830b137",
   "metadata": {},
   "source": [
    "**1.** What are the two values of the Boolean data type? How do you write them?"
   ]
  },
  {
   "cell_type": "markdown",
   "id": "81959e6d",
   "metadata": {},
   "source": [
    "**Answer 1.** <br>\n",
    "True and False are the two values of Boolen data type\n",
    "In python, they are written as <code>True</code> and <code>False </code>\n",
    "<hr>"
   ]
  },
  {
   "cell_type": "markdown",
   "id": "d8d99b56",
   "metadata": {},
   "source": [
    "**2.** What are the three different types of Boolean operators?"
   ]
  },
  {
   "cell_type": "markdown",
   "id": "507565cc",
   "metadata": {},
   "source": [
    " **Answer 2.** <br>\n",
    "The three operators used with boolean values are:\n",
    "1. <code>and</code> used to check if all conditions in an expression are true or not \n",
    "2. <code>or</code> used to check if any conditions in an expression are true or not \n",
    "3. <code>not</code> used to reverse the boolean value (true to false or false to true)\n",
    "<hr>"
   ]
  },
  {
   "cell_type": "markdown",
   "id": "a5016db4",
   "metadata": {},
   "source": [
    "**3.** Make a list of each Boolean operator&#39;s truth tables (i.e. every possible combination of Boolean values for the operator and what it evaluate )."
   ]
  },
  {
   "cell_type": "markdown",
   "id": "92c9ee65",
   "metadata": {},
   "source": [
    "**Answer 3.**<br>"
   ]
  },
  {
   "cell_type": "markdown",
   "id": "0765ab80",
   "metadata": {},
   "source": [
    "|A||not A||B||A and B||A or B| \n",
    "|:-----:||:-----:||:-----:||:-----:||:-----:|\n",
    "|True| |False||True||True||True|\n",
    "|True| |False||False||False||True|\n",
    "|False| |True| |True| |False| |True|\n",
    "|False| |True| |False| |False| |False|\n",
    "\n",
    "<hr>"
   ]
  },
  {
   "cell_type": "markdown",
   "id": "a973f270",
   "metadata": {},
   "source": [
    "**4.**What are the values of the following expressions? <br>\n",
    "1. (5 &gt; 4) and (3 == 5)\n",
    "2. not (5 &gt; 4)\n",
    "3. (5 &gt; 4) or (3 == 5)\n",
    "4. not ((5 &gt; 4) or (3 == 5))\n",
    "5. (True and True) and (True == False)\n",
    "6. (not False) or (not True)"
   ]
  },
  {
   "cell_type": "markdown",
   "id": "6b3146fb",
   "metadata": {},
   "source": [
    "**Answer 4.** <br>\n",
    "1. (5 &gt; 4) and (3 == 5) gives ```False```\n",
    "2. not (5 &gt; 4) gives ```False```\n",
    "3. (5 &gt; 4) or (3 == 5) gives ```True```\n",
    "4. not ((5 &gt; 4) or (3 == 5)) gives ```False```\n",
    "5. (True and True) and (True == False) gives ```False``` \n",
    "6. (not False) or (not True) gives ```True```\n",
    "<hr>"
   ]
  },
  {
   "cell_type": "markdown",
   "id": "ee2e9847",
   "metadata": {},
   "source": [
    "**5.** What are the six comparison operators?"
   ]
  },
  {
   "cell_type": "markdown",
   "id": "c531bfa0",
   "metadata": {},
   "source": [
    "**Answer 5.**<br>\n",
    "The six comparison operators are:\n",
    "1. '==' : checks eqaulity between two operands\n",
    "2. '!=' : checks inequality between two operands \n",
    "3. '<=' : check if first operand is smaller than or equal to second operand\n",
    "4. '>=' : check if first operand is greater than or equal to second operand\n",
    "5. '<' : check if first operand is smaller than second operand\n",
    "6. '>' : check if first operand is greater than second operand\n",
    "<hr>"
   ]
  },
  {
   "cell_type": "markdown",
   "id": "539f47e8",
   "metadata": {},
   "source": [
    "**6.** How do you tell the difference between the equal to and assignment operators? Describe a\n",
    "condition and when you would use one."
   ]
  },
  {
   "cell_type": "markdown",
   "id": "c5bdce3d",
   "metadata": {},
   "source": [
    "**Answer 6.**<br>\n",
    "Equal to operator is a comparison operator syntaxed as two equal signs as <code>==</code> used to check equality between two operands while Assignment operator is used to assign a value to a variable syntaxed as single equal sign as <code>=</code>.<br>\n",
    "Example:<br>\n",
    "```python\n",
    "a = 5 #here assignment operator '=' is used to assign value to variable 'a'\n",
    "b = 10/2\n",
    "if (a == b): #here equal to operator '==' is used to check if 'a' & 'b' are equal\n",
    "    print(a = b)\n",
    "```\n",
    "<hr>"
   ]
  },
  {
   "cell_type": "markdown",
   "id": "56a4ac42",
   "metadata": {},
   "source": [
    "**7.** Identify the three blocks in this code:<br>\n",
    "```python\n",
    "spam = 0\n",
    "if spam == 10:\n",
    "    print('eggs')\n",
    "if spam > 5:\n",
    "    print('bacon)\n",
    "else:\n",
    "    print('ham')          \n",
    "print('spam')\n",
    "print('spam')\n",
    "```"
   ]
  },
  {
   "cell_type": "markdown",
   "id": "e8284307",
   "metadata": {},
   "source": [
    "**Answer 7.**<br>\n",
    "1. Block 1: Initialise 'spam' and check if its equal to 10\n",
    "```python\n",
    "spam = 0\n",
    "if spam == 10:\n",
    "    print('eggs')\n",
    "```\n",
    "2. Block 2: Check if 'spam' is greater than 5\n",
    "```python\n",
    "if spam > 5:\n",
    "       print('bacon)\n",
    "else:\n",
    "       print('ham')\n",
    "```\n",
    "3. Block 3: prints 'spam' twice\n",
    "```python\n",
    "print('spam')\n",
    "print('spam')\n",
    "```\n",
    "<br>\n",
    "Output of the code:<code>hamspamspam</code>\n",
    "<hr>"
   ]
  },
  {
   "cell_type": "markdown",
   "id": "9ca678bf",
   "metadata": {},
   "source": [
    "**8.** Write code that prints Hello if 1 is stored in spam, prints Howdy if 2 is stored in spam, and prints Greetings! if anything else is stored in spam."
   ]
  },
  {
   "cell_type": "markdown",
   "id": "12df6061",
   "metadata": {},
   "source": [
    "**Answer 8.**\n",
    "```python\n",
    "spam = int(input())\n",
    "if (spam == 1):\n",
    "    print('Hello')\n",
    "elif (spam == 2):\n",
    "    print('Howdy')\n",
    "else:\n",
    "    print('Greetings!')\n",
    "```\n",
    "<hr>"
   ]
  },
  {
   "cell_type": "markdown",
   "id": "c35b3c2a",
   "metadata": {},
   "source": [
    "**9.** If your programme is stuck in an endless loop, what keys you’ll press?"
   ]
  },
  {
   "cell_type": "markdown",
   "id": "300b8da3",
   "metadata": {},
   "source": [
    "**Answer 9.** <br>Ctrl + C to intrupt the kernel in jupyter notebook\n",
    "<hr>"
   ]
  },
  {
   "cell_type": "markdown",
   "id": "15e70010",
   "metadata": {},
   "source": [
    "**10.** How can you tell the difference between break and continue?"
   ]
  },
  {
   "cell_type": "markdown",
   "id": "e8478d53",
   "metadata": {},
   "source": [
    "**Answer 10.** <br>\n",
    "The break ad continue keyword are used to break out a loop i.e. a for or a while loop. While the ```break``` statement terminates the loop completely, ```continue``` ends the current iteration continues to the next iteration.<br>\n",
    "For instance:<br>\n",
    "```python \n",
    "for i in range(10):\n",
    "    if (i == 5):\n",
    "        break #terminates the loop\n",
    "    print(i)\n",
    "```\n",
    "In this code, the for loop is terminated when i == 5; No futher iteration after when i = 5 happens.\n",
    "<br>\n",
    "```python\n",
    "for i in range(10):\n",
    "    if (i == 5):\n",
    "        continue #no futher codes are executed and next iteration is started\n",
    "    print(i)\n",
    "```\n",
    "Here, the loop is only interrpted when i==5 and futher codes after the continue statement in the for loop block are not executed and the next iteration when i = 6 is started.\n",
    "<hr>"
   ]
  },
  {
   "cell_type": "markdown",
   "id": "f8e6bcf4",
   "metadata": {},
   "source": [
    "**11.** In a for loop, what is the difference between range(10), range(0, 10), and range(0, 10, 1)?"
   ]
  },
  {
   "cell_type": "markdown",
   "id": "81bb1673",
   "metadata": {},
   "source": [
    "**Answer 11.**<br>\n",
    "The syantax of range is **range(start, stop, step)** <br>\n",
    "The default value of start is 0 and step is 1. So there is no difference between range(10), range(0, 10), and range(0, 10, 1).\n",
    "<hr>                                            "
   ]
  },
  {
   "cell_type": "markdown",
   "id": "6c1a9cfa",
   "metadata": {},
   "source": [
    "**12.** Write a short program that prints the numbers 1 to 10 using a for loop. Then write an equivalent\n",
    "program that prints the numbers 1 to 10 using a while loop."
   ]
  },
  {
   "cell_type": "markdown",
   "id": "84f3408a",
   "metadata": {},
   "source": [
    "**Answer 12.**<br>\n",
    "*For loop:*\n",
    "```python\n",
    "for i in range(10):\n",
    "    print(i+1)\n",
    "```\n",
    "*While loop:*\n",
    "```python\n",
    "i = 0\n",
    "while(i<10):\n",
    "    print(i+1)\n",
    "    i+=1\n",
    "```\n",
    "<hr>"
   ]
  },
  {
   "cell_type": "markdown",
   "id": "1c1267c6",
   "metadata": {},
   "source": [
    "**13.** If you had a function named bacon() inside a module named spam, how would you call it after\n",
    "importing spam?"
   ]
  },
  {
   "cell_type": "markdown",
   "id": "58857bf0",
   "metadata": {},
   "source": [
    "**Answer 13.** <br>\n",
    "```python\n",
    "import spam\n",
    "spam.bacon()\n",
    "```\n",
    "<hr>"
   ]
  },
  {
   "cell_type": "code",
   "execution_count": null,
   "id": "95b5a790",
   "metadata": {},
   "outputs": [],
   "source": []
  }
 ],
 "metadata": {
  "kernelspec": {
   "display_name": "Python 3 (ipykernel)",
   "language": "python",
   "name": "python3"
  },
  "language_info": {
   "codemirror_mode": {
    "name": "ipython",
    "version": 3
   },
   "file_extension": ".py",
   "mimetype": "text/x-python",
   "name": "python",
   "nbconvert_exporter": "python",
   "pygments_lexer": "ipython3",
   "version": "3.9.7"
  }
 },
 "nbformat": 4,
 "nbformat_minor": 5
}
